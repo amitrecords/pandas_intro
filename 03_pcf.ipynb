{
 "cells": [
  {
   "cell_type": "code",
   "execution_count": null,
   "metadata": {
    "collapsed": true
   },
   "outputs": [],
   "source": [
    "# One last time\n",
    "import numpy as np\n",
    "import scipy as sp\n",
    "import pandas as pd\n",
    "\n",
    "a = 12.55               # Cell size"
   ]
  },
  {
   "cell_type": "markdown",
   "metadata": {},
   "source": [
    "# Load the twobody data"
   ]
  },
  {
   "cell_type": "code",
   "execution_count": null,
   "metadata": {
    "collapsed": false
   },
   "outputs": [],
   "source": [
    "xyz = pd.read_hdf('xyz.hdf5', 'xyz')\n",
    "twobody = pd.read_hdf('twobody.hdf5', 'twobody')"
   ]
  },
  {
   "cell_type": "markdown",
   "metadata": {},
   "source": [
    "# The Pair Correlation Function (or Radial Distribution Function)\n",
    "\n",
    "Nice picture/description [here](http://www.physics.emory.edu/faculty/weeks//idl/gofr.html)\n",
    "\n",
    "Basically we want to compute the following for a given pair of atom symbols ($A, B$):\n",
    "\n",
    "\\begin{equation}\n",
    "    g_{AB}\\left(r\\right) = \\frac{V}{4\\pi r^{2}\\Delta r MN_{A}N_{B}}\\sum_{m=1}^{M}\\sum_{a=1}^{N_{A}}\\sum_{b=1}^{N_{B}}Q_{m}\\left(r_{a}, r_{b}; r, \\Delta r\\right)\n",
    "\\end{equation}\n",
    "\n",
    "\\begin{equation}\n",
    "    Q_{m}\\left(r_{a}, r_{b}; r, \\Delta r\\right) = \\begin{cases}\n",
    "    1\\ \\ if\\ r - \\frac{\\Delta r}{2} \\le \\left|r_{a} - r_{b}\\right|\\lt r + \\frac{\\Delta r}{2}\\\\\n",
    "    0\\ \\ otherwise\n",
    "    \\end{cases}\n",
    "\\end{equation}\n",
    "\n",
    "Note that that is the analytical form of the equation (meaning continuous values for r). \n",
    "As a consequence the denominator is simplified using an approximation for a volume of a \n",
    "spherical shell when $\\Delta r$ is small.\n",
    "\n",
    "Note:\n",
    "\n",
    "\\begin{equation}\n",
    "    \\frac{4}{3}\\pi\\left(r_{i+1}^{3} - r_{i}^{3}\\right) \\approx 4\\pi r_{i}^{2}\\Delta r\n",
    "\\end{equation}\n",
    "\n",
    "Computationally things will be a bit simpler...the summations are simply a histogram and there is no need to make the approximation above.\n",
    "\n",
    "Algorithm:\n",
    "\n",
    "- Select the distances of interest\n",
    "- Compute the distance histogram\n",
    "- Multiply by the normalization constant\n",
    "\n",
    "\\begin{equation}\n",
    "    \\frac{V}{4\\pi r^{2}\\Delta r MN_{A}N_{B}} \\equiv \\frac{volume}{\\left(distance\\ count\\right)\\left(4 / 3 \\pi\\right)\\left(r_{i+1}^{3} - r_{i}^{3}\\right)}\n",
    "\\end{equation}\n",
    "\n",
    "Let's also compute the normalized integration of $g_{AB}(r)$ which returns the pairwise count with respect to distance:\n",
    "\n",
    "\\begin{equation}\n",
    "    n(r) = \\rho 4\\pi r^2 g_{AB}(r)\n",
    "\\end{equation}"
   ]
  },
  {
   "cell_type": "code",
   "execution_count": null,
   "metadata": {
    "collapsed": true
   },
   "outputs": [],
   "source": [
    "from scipy.integrate import cumtrapz"
   ]
  },
  {
   "cell_type": "code",
   "execution_count": null,
   "metadata": {
    "collapsed": false
   },
   "outputs": [],
   "source": [
    "def pcf(A, B, a, twobody, dr=0.01, start=0.5, end=7.0):\n",
    "    '''\n",
    "    Pair correlation function between two atom types.\n",
    "    '''\n",
    "    distances = twobody.loc[(twobody['symbols'] == A + B) |\n",
    "                            (twobody['symbols'] == B + A), 'distance'].values\n",
    "    bins = np.arange(start, end, dr)\n",
    "    bins = np.append(bins, bins[-1] + dr)\n",
    "    hist, bins = np.histogram(distances, bins)\n",
    "    #\n",
    "    #\n",
    "    # r = ?\n",
    "    # g = ?\n",
    "    # integration = ?\n",
    "    return pd.DataFrame.from_dict({'r': None, 'g': None, 'i': None})"
   ]
  },
  {
   "cell_type": "code",
   "execution_count": null,
   "metadata": {
    "collapsed": false
   },
   "outputs": [],
   "source": [
    "%load -s pcf, snippets/pcf.py"
   ]
  },
  {
   "cell_type": "markdown",
   "metadata": {},
   "source": [
    "# Compute!"
   ]
  },
  {
   "cell_type": "code",
   "execution_count": null,
   "metadata": {
    "collapsed": false
   },
   "outputs": [],
   "source": [
    "A = 'O'\n",
    "B = 'O'\n",
    "df = pcf(A, B, a, twobody)"
   ]
  },
  {
   "cell_type": "markdown",
   "metadata": {},
   "source": [
    "# Plot!"
   ]
  },
  {
   "cell_type": "code",
   "execution_count": null,
   "metadata": {
    "collapsed": true
   },
   "outputs": [],
   "source": [
    "# Lets modify a copy of the data for plotting\n",
    "plotdf = df.set_index('r')\n",
    "plotdf.columns = ['PCF', 'Pair Count']"
   ]
  },
  {
   "cell_type": "code",
   "execution_count": null,
   "metadata": {
    "collapsed": false
   },
   "outputs": [],
   "source": [
    "# Generate the plot\n",
    "ax = plotdf.plot(secondary_y='Pair Count')\n",
    "ax.set_ylabel('Pair Correlation Function ({0}, {1})'.format(A, B))\n",
    "ax.right_ax.set_ylabel('Pair Count ({0}, {1})'.format(A, B))\n",
    "ax.set_xlabel('Distance ($\\AA$)')\n",
    "patches, labels = ax.get_legend_handles_labels()\n",
    "patches2, labels2 = ax.right_ax.get_legend_handles_labels()\n",
    "legend = ax.legend(patches+patches2, labels+labels2, loc='upper center', frameon=True)\n",
    "frame = legend.get_frame()\n",
    "frame.set_facecolor('white')\n",
    "frame.set_edgecolor('black')"
   ]
  },
  {
   "cell_type": "markdown",
   "metadata": {},
   "source": [
    "# Save the everything for later"
   ]
  },
  {
   "cell_type": "code",
   "execution_count": null,
   "metadata": {
    "collapsed": true
   },
   "outputs": [],
   "source": [
    "# Save the figure\n",
    "fig = ax.get_figure()\n",
    "fig.savefig('pcf.pdf')"
   ]
  },
  {
   "cell_type": "code",
   "execution_count": null,
   "metadata": {
    "collapsed": true
   },
   "outputs": [],
   "source": [
    "# Save the pcf data\n",
    "store = pd.HDFStore('pcf.hdf5', mode='w')\n",
    "store.put(A + B, df)\n",
    "store.close()"
   ]
  }
 ],
 "metadata": {
  "kernelspec": {
   "display_name": "Python 3",
   "language": "python",
   "name": "python3"
  },
  "language_info": {
   "codemirror_mode": {
    "name": "ipython",
    "version": 3
   },
   "file_extension": ".py",
   "mimetype": "text/x-python",
   "name": "python",
   "nbconvert_exporter": "python",
   "pygments_lexer": "ipython3",
   "version": "3.5.1"
  }
 },
 "nbformat": 4,
 "nbformat_minor": 0
}
