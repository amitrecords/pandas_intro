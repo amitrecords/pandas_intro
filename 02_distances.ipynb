{
 "cells": [
  {
   "cell_type": "code",
   "execution_count": 1,
   "metadata": {
    "collapsed": true
   },
   "outputs": [],
   "source": [
    "# As before...\n",
    "import numpy as np\n",
    "import scipy as sp\n",
    "import pandas as pd\n",
    "\n",
    "nat = 195               # Number of atoms\n",
    "a = 12.55               # Cell size"
   ]
  },
  {
   "cell_type": "markdown",
   "metadata": {},
   "source": [
    "# Load our previous work\n",
    "\n",
    "HDF5's are easy to load"
   ]
  },
  {
   "cell_type": "code",
   "execution_count": 2,
   "metadata": {
    "collapsed": false
   },
   "outputs": [
    {
     "data": {
      "text/html": [
       "<div>\n",
       "<table border=\"1\" class=\"dataframe\">\n",
       "  <thead>\n",
       "    <tr style=\"text-align: right;\">\n",
       "      <th></th>\n",
       "      <th></th>\n",
       "      <th>symbol</th>\n",
       "      <th>x</th>\n",
       "      <th>y</th>\n",
       "      <th>z</th>\n",
       "    </tr>\n",
       "    <tr>\n",
       "      <th>frame</th>\n",
       "      <th>atom</th>\n",
       "      <th></th>\n",
       "      <th></th>\n",
       "      <th></th>\n",
       "      <th></th>\n",
       "    </tr>\n",
       "  </thead>\n",
       "  <tbody>\n",
       "    <tr>\n",
       "      <th rowspan=\"5\" valign=\"top\">0</th>\n",
       "      <th>0</th>\n",
       "      <td>Na</td>\n",
       "      <td>4.536365</td>\n",
       "      <td>7.754558</td>\n",
       "      <td>5.098497</td>\n",
       "    </tr>\n",
       "    <tr>\n",
       "      <th>1</th>\n",
       "      <td>O</td>\n",
       "      <td>9.969693</td>\n",
       "      <td>11.411853</td>\n",
       "      <td>3.889800</td>\n",
       "    </tr>\n",
       "    <tr>\n",
       "      <th>2</th>\n",
       "      <td>O</td>\n",
       "      <td>7.297978</td>\n",
       "      <td>14.646000</td>\n",
       "      <td>1.039326</td>\n",
       "    </tr>\n",
       "    <tr>\n",
       "      <th>3</th>\n",
       "      <td>O</td>\n",
       "      <td>12.633737</td>\n",
       "      <td>2.164139</td>\n",
       "      <td>8.549592</td>\n",
       "    </tr>\n",
       "    <tr>\n",
       "      <th>4</th>\n",
       "      <td>O</td>\n",
       "      <td>7.996152</td>\n",
       "      <td>5.646017</td>\n",
       "      <td>4.587208</td>\n",
       "    </tr>\n",
       "  </tbody>\n",
       "</table>\n",
       "</div>"
      ],
      "text/plain": [
       "           symbol          x          y         z\n",
       "frame atom                                       \n",
       "0     0        Na   4.536365   7.754558  5.098497\n",
       "      1         O   9.969693  11.411853  3.889800\n",
       "      2         O   7.297978  14.646000  1.039326\n",
       "      3         O  12.633737   2.164139  8.549592\n",
       "      4         O   7.996152   5.646017  4.587208"
      ]
     },
     "execution_count": 2,
     "metadata": {},
     "output_type": "execute_result"
    }
   ],
   "source": [
    "xyz = pd.read_hdf('xyz.hdf5', 'xyz')\n",
    "xyz.head()"
   ]
  },
  {
   "cell_type": "markdown",
   "metadata": {},
   "source": [
    "# Computing atom to atom distances\n",
    "\n",
    "This is arguably the most difficult part of this tutorial. How do we account for periodicity?\n",
    "\n",
    "Lets start by considering **free boundary** conditions first!\n",
    "\n",
    "Computing all atom to atom distances (**per frame**) increases factorially,\n",
    "\n",
    "\\begin{equation}\n",
    "    \\frac{nat!}{2!\\left(nat - 2\\right)!} \\left(= \\frac{1}{2}\\left(nat * \\left(nat - 1\\right)\\right)\\right)\n",
    "\\end{equation}\n",
    "\n",
    "in computations (where *nat* is the number of atoms). Fortunately for us, computing the distances can be \n",
    "passed off to scipy's [pdist](https://scipy.github.io/devdocs/generated/scipy.spatial.distance.pdist.html).\n",
    "\n",
    "**CODING TIME: Write a function to compute all of the atom to atom distances in every frame assuming free boundary conditions**"
   ]
  },
  {
   "cell_type": "code",
   "execution_count": 3,
   "metadata": {
    "collapsed": true
   },
   "outputs": [],
   "source": [
    "from scipy.spatial.distance import pdist\n",
    "\n",
    "\n",
    "def skeleton_free_boundary_distances(frame):    # Note that this is frame, not DataFrame\n",
    "    '''\n",
    "    Compute all of the atom to atom distances with free boundary conditions\n",
    "    '''\n",
    "    # Compute distances\n",
    "    xyz = frame.loc[:, ['x', 'y', 'z']]\n",
    "    distances = pdist(xyz)\n",
    "    # Compute the symbols\n",
    "    #\n",
    "    symbols = None\n",
    "    return pd.DataFrame.from_dict({'distances': distances, 'symbols': symbols})"
   ]
  },
  {
   "cell_type": "code",
   "execution_count": 4,
   "metadata": {
    "collapsed": false
   },
   "outputs": [
    {
     "data": {
      "text/html": [
       "<div>\n",
       "<table border=\"1\" class=\"dataframe\">\n",
       "  <thead>\n",
       "    <tr style=\"text-align: right;\">\n",
       "      <th></th>\n",
       "      <th></th>\n",
       "      <th>distances</th>\n",
       "      <th>symbols</th>\n",
       "    </tr>\n",
       "    <tr>\n",
       "      <th>frame</th>\n",
       "      <th></th>\n",
       "      <th></th>\n",
       "      <th></th>\n",
       "    </tr>\n",
       "  </thead>\n",
       "  <tbody>\n",
       "    <tr>\n",
       "      <th rowspan=\"5\" valign=\"top\">0</th>\n",
       "      <th>0</th>\n",
       "      <td>6.660165</td>\n",
       "      <td>NaN</td>\n",
       "    </tr>\n",
       "    <tr>\n",
       "      <th>1</th>\n",
       "      <td>8.461403</td>\n",
       "      <td>NaN</td>\n",
       "    </tr>\n",
       "    <tr>\n",
       "      <th>2</th>\n",
       "      <td>10.427381</td>\n",
       "      <td>NaN</td>\n",
       "    </tr>\n",
       "    <tr>\n",
       "      <th>3</th>\n",
       "      <td>4.083808</td>\n",
       "      <td>NaN</td>\n",
       "    </tr>\n",
       "    <tr>\n",
       "      <th>4</th>\n",
       "      <td>12.748121</td>\n",
       "      <td>NaN</td>\n",
       "    </tr>\n",
       "  </tbody>\n",
       "</table>\n",
       "</div>"
      ],
      "text/plain": [
       "         distances symbols\n",
       "frame                     \n",
       "0     0   6.660165     NaN\n",
       "      1   8.461403     NaN\n",
       "      2  10.427381     NaN\n",
       "      3   4.083808     NaN\n",
       "      4  12.748121     NaN"
      ]
     },
     "execution_count": 4,
     "metadata": {},
     "output_type": "execute_result"
    }
   ],
   "source": [
    "twobody = xyz.groupby(level='frame').apply(skeleton_free_boundary_distances)\n",
    "twobody.head()"
   ]
  },
  {
   "cell_type": "markdown",
   "metadata": {},
   "source": [
    "Distances are no good to us, unless we know where they came from (or at least what two symbols they represent)...\n",
    "\n",
    "**HINT: Checkout the \"combinations\" function in the itertools library (part of the Python standard library)**"
   ]
  },
  {
   "cell_type": "code",
   "execution_count": 5,
   "metadata": {
    "collapsed": true
   },
   "outputs": [],
   "source": [
    "from itertools import combinations"
   ]
  },
  {
   "cell_type": "code",
   "execution_count": 7,
   "metadata": {
    "collapsed": false
   },
   "outputs": [],
   "source": [
    "# %load -s free_boundary_distances, snippets/distances.py\n",
    "def free_boundary_distances(frame):\n",
    "    '''\n",
    "    Compute all of the atom to atom distances with free boundary conditions\n",
    "    '''\n",
    "    xyz = frame.loc[:, ['x', 'y', 'z']]\n",
    "    distances = pdist(xyz)                                          # Compute distances\n",
    "    symbol = frame.loc[:, 'symbol']\n",
    "    symbols = [''.join(syms) for syms in combinations(symbol, 2)]   # Compute symbols\n",
    "    return pd.DataFrame.from_dict({'distances': distances, 'symbols': symbols})\n"
   ]
  },
  {
   "cell_type": "code",
   "execution_count": 8,
   "metadata": {
    "collapsed": false
   },
   "outputs": [
    {
     "data": {
      "text/html": [
       "<div>\n",
       "<table border=\"1\" class=\"dataframe\">\n",
       "  <thead>\n",
       "    <tr style=\"text-align: right;\">\n",
       "      <th></th>\n",
       "      <th></th>\n",
       "      <th>distances</th>\n",
       "      <th>symbols</th>\n",
       "    </tr>\n",
       "    <tr>\n",
       "      <th>frame</th>\n",
       "      <th></th>\n",
       "      <th></th>\n",
       "      <th></th>\n",
       "    </tr>\n",
       "  </thead>\n",
       "  <tbody>\n",
       "    <tr>\n",
       "      <th rowspan=\"5\" valign=\"top\">0</th>\n",
       "      <th>0</th>\n",
       "      <td>6.660165</td>\n",
       "      <td>NaO</td>\n",
       "    </tr>\n",
       "    <tr>\n",
       "      <th>1</th>\n",
       "      <td>8.461403</td>\n",
       "      <td>NaO</td>\n",
       "    </tr>\n",
       "    <tr>\n",
       "      <th>2</th>\n",
       "      <td>10.427381</td>\n",
       "      <td>NaO</td>\n",
       "    </tr>\n",
       "    <tr>\n",
       "      <th>3</th>\n",
       "      <td>4.083808</td>\n",
       "      <td>NaO</td>\n",
       "    </tr>\n",
       "    <tr>\n",
       "      <th>4</th>\n",
       "      <td>12.748121</td>\n",
       "      <td>NaO</td>\n",
       "    </tr>\n",
       "  </tbody>\n",
       "</table>\n",
       "</div>"
      ],
      "text/plain": [
       "         distances symbols\n",
       "frame                     \n",
       "0     0   6.660165     NaO\n",
       "      1   8.461403     NaO\n",
       "      2  10.427381     NaO\n",
       "      3   4.083808     NaO\n",
       "      4  12.748121     NaO"
      ]
     },
     "execution_count": 8,
     "metadata": {},
     "output_type": "execute_result"
    }
   ],
   "source": [
    "twobody = xyz.groupby(level='frame').apply(free_boundary_distances)\n",
    "twobody.head()"
   ]
  },
  {
   "cell_type": "markdown",
   "metadata": {},
   "source": [
    "# Again lets test..."
   ]
  },
  {
   "cell_type": "code",
   "execution_count": 9,
   "metadata": {
    "collapsed": false
   },
   "outputs": [
    {
     "data": {
      "text/html": [
       "<div>\n",
       "<table border=\"1\" class=\"dataframe\">\n",
       "  <thead>\n",
       "    <tr style=\"text-align: right;\">\n",
       "      <th></th>\n",
       "      <th>distances</th>\n",
       "      <th>symbols</th>\n",
       "    </tr>\n",
       "  </thead>\n",
       "  <tbody>\n",
       "    <tr>\n",
       "      <th>0</th>\n",
       "      <td>6.660165</td>\n",
       "      <td>NaO</td>\n",
       "    </tr>\n",
       "    <tr>\n",
       "      <th>1</th>\n",
       "      <td>8.461403</td>\n",
       "      <td>NaO</td>\n",
       "    </tr>\n",
       "    <tr>\n",
       "      <th>2</th>\n",
       "      <td>10.427381</td>\n",
       "      <td>NaO</td>\n",
       "    </tr>\n",
       "    <tr>\n",
       "      <th>3</th>\n",
       "      <td>4.083808</td>\n",
       "      <td>NaO</td>\n",
       "    </tr>\n",
       "    <tr>\n",
       "      <th>4</th>\n",
       "      <td>12.748121</td>\n",
       "      <td>NaO</td>\n",
       "    </tr>\n",
       "  </tbody>\n",
       "</table>\n",
       "</div>"
      ],
      "text/plain": [
       "   distances symbols\n",
       "0   6.660165     NaO\n",
       "1   8.461403     NaO\n",
       "2  10.427381     NaO\n",
       "3   4.083808     NaO\n",
       "4  12.748121     NaO"
      ]
     },
     "execution_count": 9,
     "metadata": {},
     "output_type": "execute_result"
    }
   ],
   "source": [
    "twobody.loc[0].head()"
   ]
  },
  {
   "cell_type": "code",
   "execution_count": 10,
   "metadata": {
    "collapsed": false
   },
   "outputs": [
    {
     "name": "stdout",
     "output_type": "stream",
     "text": [
      "6.6601647141\n",
      "8.46140284812\n",
      "10.4273806451\n",
      "4.08380801487\n",
      "12.7481208103\n"
     ]
    }
   ],
   "source": [
    "first = xyz.loc[0, ['x', 'y', 'z']].values\n",
    "for i in range(1, 6):\n",
    "    print(((first[0, :] - first[i, :])**2).sum()**0.5)"
   ]
  },
  {
   "cell_type": "markdown",
   "metadata": {},
   "source": [
    "# Periodicity\n",
    "\n",
    "That was fun but it doesn't do what we need it to! Periodic boundaries can be handled a number of ways, here is one algorithm:\n",
    "\n",
    "- Put all atoms back in unit cell\n",
    "- Generate a 3x3x3 supercell from the unit cell\n",
    "- Compute distances looking only from the central unit cell (the internal cell that is completely surrounded by replicas)\n",
    "\n",
    "Since this is complicated, we will walk through the pieces of the code individually (applying them to a single frame) before putting it all together."
   ]
  },
  {
   "cell_type": "code",
   "execution_count": 11,
   "metadata": {
    "collapsed": true
   },
   "outputs": [],
   "source": [
    "frame = xyz.loc[0]"
   ]
  },
  {
   "cell_type": "markdown",
   "metadata": {},
   "source": [
    "**CODING TIME: Put all atoms back into the unit cell**"
   ]
  },
  {
   "cell_type": "code",
   "execution_count": 12,
   "metadata": {
    "collapsed": true
   },
   "outputs": [],
   "source": [
    "def skeleton_unitify(df, a):\n",
    "    '''\n",
    "    Put all atoms back into the cubic unit cell\n",
    "    '''\n",
    "    pass"
   ]
  },
  {
   "cell_type": "code",
   "execution_count": 13,
   "metadata": {
    "collapsed": true
   },
   "outputs": [],
   "source": [
    "unit_frame = skeleton_unitify(frame, a)    # a is defined above\n",
    "unit_frame"
   ]
  },
  {
   "cell_type": "markdown",
   "metadata": {},
   "source": [
    "The % (modulo) operator is nice for such tasks..."
   ]
  },
  {
   "cell_type": "code",
   "execution_count": 16,
   "metadata": {
    "collapsed": false
   },
   "outputs": [],
   "source": [
    "# %load -s unitify, snippets/distances.py\n",
    "def unitify(df, a):\n",
    "    '''\n",
    "    Put all atoms back into the cubic unit cell.\n",
    "    '''\n",
    "    unitdf = df.copy()              # Don't alter the original\n",
    "    cell_dim = np.array([a, a, a])\n",
    "    unitdf.loc[:, ['x', 'y', 'z']] = np.mod(unitdf.loc[:, ['x', 'y', 'z']], cell_dim)\n",
    "    return unitdf\n"
   ]
  },
  {
   "cell_type": "code",
   "execution_count": 17,
   "metadata": {
    "collapsed": false
   },
   "outputs": [
    {
     "data": {
      "text/plain": [
       "(195, 4)"
      ]
     },
     "execution_count": 17,
     "metadata": {},
     "output_type": "execute_result"
    }
   ],
   "source": [
    "unit_frame = unitify(frame, a)\n",
    "unit_frame.shape"
   ]
  },
  {
   "cell_type": "code",
   "execution_count": 18,
   "metadata": {
    "collapsed": false
   },
   "outputs": [
    {
     "name": "stdout",
     "output_type": "stream",
     "text": [
      "True\n",
      "False\n"
     ]
    }
   ],
   "source": [
    "print(unit_frame is not frame)                          # True if objects are same in memory\n",
    "print(np.all(unit_frame.values == frame.values))        # True if objects' xyz positions are identical"
   ]
  },
  {
   "cell_type": "markdown",
   "metadata": {},
   "source": [
    "**CODING TIME: Generate the 3x3x3 superframe from the unit_frame**"
   ]
  },
  {
   "cell_type": "code",
   "execution_count": 19,
   "metadata": {
    "collapsed": true
   },
   "outputs": [],
   "source": [
    "def skeleton_superframe(frame, a):\n",
    "    '''\n",
    "    Generate a 3x3x3 supercell of a given frame.\n",
    "    '''\n",
    "    v = [-1, 0, 1]\n",
    "    n = len(frame)\n",
    "    unit = frame.loc[:, ['x', 'y', 'z']].values\n",
    "    coords = np.empty((n * 27, 3))\n",
    "    h = 0\n",
    "    for i in v:\n",
    "        for j in v:\n",
    "            for k in v:\n",
    "                pass\n",
    "                #for ...\n",
    "    return coords"
   ]
  },
  {
   "cell_type": "code",
   "execution_count": 20,
   "metadata": {
    "collapsed": false
   },
   "outputs": [
    {
     "data": {
      "text/plain": [
       "(5265, 3)"
      ]
     },
     "execution_count": 20,
     "metadata": {},
     "output_type": "execute_result"
    }
   ],
   "source": [
    "big_frame = skeleton_superframe(unit_frame, a)\n",
    "big_frame.shape"
   ]
  },
  {
   "cell_type": "markdown",
   "metadata": {},
   "source": [
    "One solution...or if you want to have some [fun](#fun)..."
   ]
  },
  {
   "cell_type": "code",
   "execution_count": 27,
   "metadata": {
    "collapsed": false
   },
   "outputs": [],
   "source": [
    "# %load -s superframe, snippets/distances.py\n",
    "def superframe(frame, a):\n",
    "    '''\n",
    "    Generate a 3x3x3 supercell from a frame.\n",
    "    '''\n",
    "    v = [-1, 0, 1]\n",
    "    n = len(frame)\n",
    "    unit = frame.loc[:, ['x', 'y', 'z']].values\n",
    "    coords = np.empty((n * 27, 3))\n",
    "    h = 0\n",
    "    for i in v:\n",
    "        for j in v:\n",
    "            for k in v:\n",
    "                for l in range(n):\n",
    "                    coords[h, 0] = unit[l, 0] + i * a\n",
    "                    coords[h, 1] = unit[l, 1] + j * a\n",
    "                    coords[h, 2] = unit[l, 2] + k * a\n",
    "                    h += 1\n",
    "    return coords\n"
   ]
  },
  {
   "cell_type": "code",
   "execution_count": 38,
   "metadata": {
    "collapsed": false
   },
   "outputs": [
    {
     "data": {
      "text/plain": [
       "array([[ -8.01363456,  -4.7954419 ,  -7.45150329],\n",
       "       [ -2.5803073 ,  -1.1381475 ,  -8.66019952],\n",
       "       [ -5.2520218 , -10.4540002 , -11.5106737 ],\n",
       "       ..., \n",
       "       [ 20.7455325 ,  22.5531784 ,  20.2676339 ],\n",
       "       [ 19.9466367 ,  21.1829626 ,  20.3166193 ],\n",
       "       [ 18.6081609 ,  17.40274447,  18.3286902 ]])"
      ]
     },
     "execution_count": 38,
     "metadata": {},
     "output_type": "execute_result"
    }
   ],
   "source": [
    "big_frame = superframe(unit_frame, a)\n",
    "big_frame"
   ]
  },
  {
   "cell_type": "markdown",
   "metadata": {},
   "source": [
    "# KDTree\n",
    "\n",
    "For a single frame's supercell (to start with) we need to compute the distances from the central frame. \n",
    "\n",
    "Lets use a nice feature of scipy/scikit-learn (and of course the mathematicians \n",
    "that developed it): the [KDTree](https://scipy.github.io/devdocs/generated/scipy.spatial.KDTree.html#scipy.spatial.KDTree)\n",
    "\n",
    "See also: [wiki](https://en.wikipedia.org/wiki/K-d_tree)\n",
    "\n",
    "We are going to use the [Cythonized](http://cython.org/) version of the KDTree implementation."
   ]
  },
  {
   "cell_type": "code",
   "execution_count": 39,
   "metadata": {
    "collapsed": true
   },
   "outputs": [],
   "source": [
    "from scipy.spatial import cKDTree"
   ]
  },
  {
   "cell_type": "code",
   "execution_count": 48,
   "metadata": {
    "collapsed": false
   },
   "outputs": [
    {
     "data": {
      "text/plain": [
       "(195, 194)"
      ]
     },
     "execution_count": 48,
     "metadata": {},
     "output_type": "execute_result"
    }
   ],
   "source": [
    "kd = cKDTree(big_frame)\n",
    "k = 194                          # Number of distances to compute \n",
    "distances, indexes = kd.query(unit_frame.loc[:, ['x', 'y', 'z']], k=k)\n",
    "distances.shape"
   ]
  },
  {
   "cell_type": "code",
   "execution_count": 49,
   "metadata": {
    "collapsed": false
   },
   "outputs": [
    {
     "data": {
      "text/plain": [
       "(195, 194)"
      ]
     },
     "execution_count": 49,
     "metadata": {},
     "output_type": "execute_result"
    }
   ],
   "source": [
    "indexes.shape"
   ]
  },
  {
   "cell_type": "markdown",
   "metadata": {},
   "source": [
    "We have the distances but we need to shape them into a DataFrame and figure out what symbol pair \n",
    "each distance belongs too (that last part is critical for the third task).\n",
    "\n",
    "The first column in the indexes are the indexes of the source atom from which we are looking.\n",
    "\n",
    "The rest of the columns contain the indexes of the paired atom to which we are computing the distances.\n",
    "\n",
    "We map superframe indexes back onto the unit_frame indexes:"
   ]
  },
  {
   "cell_type": "code",
   "execution_count": 50,
   "metadata": {
    "collapsed": true
   },
   "outputs": [],
   "source": [
    "def map_x_to_y(x, y):\n",
    "    '''\n",
    "    Using the indexes in x, generate an array of the same \n",
    "    length populated by values from y.\n",
    "    '''\n",
    "    mapped = np.empty((len(x), ), dtype=np.int)\n",
    "    for i, index in enumerate(x):\n",
    "        mapped[i] = y[index]\n",
    "    return mapped"
   ]
  },
  {
   "cell_type": "code",
   "execution_count": 51,
   "metadata": {
    "collapsed": true
   },
   "outputs": [],
   "source": [
    "unit_frame_indexes = unit_frame.index.get_level_values('atom').tolist() * 27\n",
    "repeated_source = np.repeat(indexes[:, 0], k)\n",
    "atom1_indexes = pd.Series(map_x_to_y(repeated_source, unit_frame_indexes))\n",
    "atom2_indexes = pd.Series(map_x_to_y(indexes.flatten(), unit_frame_indexes))"
   ]
  },
  {
   "cell_type": "markdown",
   "metadata": {},
   "source": [
    "Now lets convert these Series (a pandas Series is simply a column in a DataFrame)\n",
    "to symbols using the **map** function."
   ]
  },
  {
   "cell_type": "code",
   "execution_count": 52,
   "metadata": {
    "collapsed": false
   },
   "outputs": [],
   "source": [
    "symbols = unit_frame['symbol'].to_dict()"
   ]
  },
  {
   "cell_type": "code",
   "execution_count": 53,
   "metadata": {
    "collapsed": true
   },
   "outputs": [],
   "source": [
    "atom1_symbols = atom1_indexes.map(symbols)\n",
    "atom2_symbols = atom2_indexes.map(symbols)"
   ]
  },
  {
   "cell_type": "code",
   "execution_count": 54,
   "metadata": {
    "collapsed": false
   },
   "outputs": [],
   "source": [
    "symbols = [''.join((first, atom2_symbols[i])) for i, first in enumerate(atom1_symbols)]"
   ]
  },
  {
   "cell_type": "markdown",
   "metadata": {},
   "source": [
    "Now lets finish this by generating our (periodic) two body DataFrame for this first frame\n",
    "\n",
    "**CODING TIME: Build the twobody DataFrame for this first frame and prune it to remove 0 length distances.**"
   ]
  },
  {
   "cell_type": "code",
   "execution_count": 55,
   "metadata": {
    "collapsed": false
   },
   "outputs": [
    {
     "data": {
      "text/html": [
       "<div>\n",
       "<table border=\"1\" class=\"dataframe\">\n",
       "  <thead>\n",
       "    <tr style=\"text-align: right;\">\n",
       "      <th></th>\n",
       "      <th>distance</th>\n",
       "      <th>symbols</th>\n",
       "    </tr>\n",
       "  </thead>\n",
       "  <tbody>\n",
       "    <tr>\n",
       "      <th>1</th>\n",
       "      <td>2.256660</td>\n",
       "      <td>NaO</td>\n",
       "    </tr>\n",
       "    <tr>\n",
       "      <th>2</th>\n",
       "      <td>2.319464</td>\n",
       "      <td>NaO</td>\n",
       "    </tr>\n",
       "    <tr>\n",
       "      <th>3</th>\n",
       "      <td>2.420869</td>\n",
       "      <td>NaO</td>\n",
       "    </tr>\n",
       "    <tr>\n",
       "      <th>4</th>\n",
       "      <td>2.428699</td>\n",
       "      <td>NaO</td>\n",
       "    </tr>\n",
       "    <tr>\n",
       "      <th>5</th>\n",
       "      <td>2.509244</td>\n",
       "      <td>NaH</td>\n",
       "    </tr>\n",
       "  </tbody>\n",
       "</table>\n",
       "</div>"
      ],
      "text/plain": [
       "   distance symbols\n",
       "1  2.256660     NaO\n",
       "2  2.319464     NaO\n",
       "3  2.420869     NaO\n",
       "4  2.428699     NaO\n",
       "5  2.509244     NaH"
      ]
     },
     "execution_count": 55,
     "metadata": {},
     "output_type": "execute_result"
    }
   ],
   "source": [
    "frame_twobody = pd.DataFrame.from_dict({'distance': distances.flatten(),\n",
    "                                        'symbols': symbols})\n",
    "\n",
    "min_distance = 0.3\n",
    "frame_twobody = frame_twobody.loc[frame_twobody['distance'] > min_distance]\n",
    "frame_twobody.head()"
   ]
  },
  {
   "cell_type": "markdown",
   "metadata": {},
   "source": [
    "We should probably do a check here, but in the interest of time, and because,\n",
    "with our current implementation this is not trivial, lets just skip this..."
   ]
  },
  {
   "cell_type": "markdown",
   "metadata": {},
   "source": [
    "# Putting the pieces together\n",
    "\n",
    "Though we have done this for a single frame, lets see if we can combine all of the pieces \n",
    "to act on the original xyz DataFrame."
   ]
  },
  {
   "cell_type": "code",
   "execution_count": 56,
   "metadata": {
    "collapsed": false
   },
   "outputs": [],
   "source": [
    "from scipy.spatial import cKDTree\n",
    "from snippets.distances import superframe_numba, map_x_to_y_numba, unitify\n",
    "\n",
    "\n",
    "def cubic_periodic_distances(xyz, a, nat, k, min_distance=0.3):\n",
    "    '''\n",
    "    Computes atom to atom distances for a periodic cubic cell.\n",
    "\n",
    "    Args:\n",
    "        xyz: Properly indexed pandas DataFrame\n",
    "        a: Cubic cell dimension\n",
    "\n",
    "    Returns:\n",
    "        twobody: DataFrame of distances\n",
    "    '''\n",
    "    # Since the unit cell size doesn't change between frames, \n",
    "    # lets put all of the atoms (in every frame) back in the\n",
    "    # unit cell at the same time.\n",
    "    unit_xyz = unitify(xyz, a)\n",
    "    # Now we will define another function which will do the \n",
    "    # steps we outlined above (see below) and apply this \n",
    "    # function to every frame of the unit_xyz\n",
    "    twobody = unit_xyz.groupby(level='frame').apply(_compute, k=k, min_distance=min_distance, \n",
    "                                                    max_distance=a)\n",
    "    # Pair the symbols\n",
    "    twobody.loc[:, 'symbols'] = twobody['atom1'] + twobody['atom2']\n",
    "    # Name the indexes\n",
    "    twobody.index.names = ['frame', 'two']\n",
    "    return twobody\n"
   ]
  },
  {
   "cell_type": "markdown",
   "metadata": {},
   "source": [
    "What should the function **_compute** look like/do?\n",
    "\n",
    "**NOT QUITE CODING TIME: Just load the function**"
   ]
  },
  {
   "cell_type": "code",
   "execution_count": 58,
   "metadata": {
    "collapsed": false
   },
   "outputs": [],
   "source": [
    "# %load -s _compute, snippets/distances.py\n",
    "def _compute(unit_frame, k, min_distance, max_distance=25.0):\n",
    "    '''\n",
    "    Compute periodic atom to atom distances\n",
    "    '''\n",
    "    # Generate superframe\n",
    "    values = unit_frame.loc[:, ['x', 'y', 'z']].values\n",
    "    big_frame = superframe_numba(values, a)\n",
    "\n",
    "    # Create the K-D tree\n",
    "    kd = cKDTree(big_frame)\n",
    "    distances, indexes = kd.query(values, k=k)\n",
    "\n",
    "    # Metadata\n",
    "    unit_frame_indexes = np.tile(unit_frame.index.get_level_values('atom').values, (len(values), 27)).flatten()\n",
    "    symbol_dict = unit_frame.reset_index('frame', drop=True).loc[:, 'symbol'].to_dict()\n",
    "    repeated_source = np.repeat(indexes[:, 0], k)\n",
    "    def symbol_caller(symbol):\n",
    "        return symbol_dict[symbol]\n",
    "\n",
    "    # Mapping of atom indexes to symbols\n",
    "    atom1_indexes = map_x_to_y_numba(repeated_source, unit_frame_indexes)\n",
    "    atom2_indexes = map_x_to_y_numba(indexes.flatten(), unit_frame_indexes)\n",
    "    atom1_symbols = list(map(symbol_caller, atom1_indexes))\n",
    "    atom2_symbols = list(map(symbol_caller, atom2_indexes))\n",
    "\n",
    "    # Generation of the DataFrame\n",
    "    frame_twobody = pd.DataFrame.from_dict({'distance': distances.flatten(), 'atom1': atom1_symbols, 'atom2': atom2_symbols})\n",
    "    frame_twobody = frame_twobody.loc[frame_twobody['distance'] > min_distance]\n",
    "    return frame_twobody\n"
   ]
  },
  {
   "cell_type": "code",
   "execution_count": 59,
   "metadata": {
    "collapsed": false,
    "scrolled": false
   },
   "outputs": [
    {
     "name": "stdout",
     "output_type": "stream",
     "text": [
      "Wall time: 1min 51s\n"
     ]
    },
    {
     "data": {
      "text/html": [
       "<div>\n",
       "<table border=\"1\" class=\"dataframe\">\n",
       "  <thead>\n",
       "    <tr style=\"text-align: right;\">\n",
       "      <th></th>\n",
       "      <th></th>\n",
       "      <th>atom1</th>\n",
       "      <th>atom2</th>\n",
       "      <th>distance</th>\n",
       "      <th>symbols</th>\n",
       "    </tr>\n",
       "    <tr>\n",
       "      <th>frame</th>\n",
       "      <th>two</th>\n",
       "      <th></th>\n",
       "      <th></th>\n",
       "      <th></th>\n",
       "      <th></th>\n",
       "    </tr>\n",
       "  </thead>\n",
       "  <tbody>\n",
       "    <tr>\n",
       "      <th rowspan=\"5\" valign=\"top\">0</th>\n",
       "      <th>1</th>\n",
       "      <td>Na</td>\n",
       "      <td>O</td>\n",
       "      <td>2.256660</td>\n",
       "      <td>NaO</td>\n",
       "    </tr>\n",
       "    <tr>\n",
       "      <th>2</th>\n",
       "      <td>Na</td>\n",
       "      <td>O</td>\n",
       "      <td>2.319464</td>\n",
       "      <td>NaO</td>\n",
       "    </tr>\n",
       "    <tr>\n",
       "      <th>3</th>\n",
       "      <td>Na</td>\n",
       "      <td>O</td>\n",
       "      <td>2.420869</td>\n",
       "      <td>NaO</td>\n",
       "    </tr>\n",
       "    <tr>\n",
       "      <th>4</th>\n",
       "      <td>Na</td>\n",
       "      <td>O</td>\n",
       "      <td>2.428699</td>\n",
       "      <td>NaO</td>\n",
       "    </tr>\n",
       "    <tr>\n",
       "      <th>5</th>\n",
       "      <td>Na</td>\n",
       "      <td>H</td>\n",
       "      <td>2.509244</td>\n",
       "      <td>NaH</td>\n",
       "    </tr>\n",
       "  </tbody>\n",
       "</table>\n",
       "</div>"
      ],
      "text/plain": [
       "          atom1 atom2  distance symbols\n",
       "frame two                              \n",
       "0     1      Na     O  2.256660     NaO\n",
       "      2      Na     O  2.319464     NaO\n",
       "      3      Na     O  2.420869     NaO\n",
       "      4      Na     O  2.428699     NaO\n",
       "      5      Na     H  2.509244     NaH"
      ]
     },
     "execution_count": 59,
     "metadata": {},
     "output_type": "execute_result"
    }
   ],
   "source": [
    "# WARNING: Reduce the value of k else this will take about 2 minutes!\n",
    "%time twobody = cubic_periodic_distances(xyz, a, nat, k=194)\n",
    "twobody.head()"
   ]
  },
  {
   "cell_type": "markdown",
   "metadata": {},
   "source": [
    "# Saving\n",
    "\n",
    "Now that we did that heavy analysis (it took alm\n",
    "lets save our data again."
   ]
  },
  {
   "cell_type": "code",
   "execution_count": 60,
   "metadata": {
    "collapsed": false
   },
   "outputs": [
    {
     "name": "stdout",
     "output_type": "stream",
     "text": [
      "Wall time: 26 s\n"
     ]
    }
   ],
   "source": [
    "store = pd.HDFStore('twobody.hdf5', mode='w')\n",
    "%time store.put('twobody', twobody)\n",
    "store.close()"
   ]
  },
  {
   "cell_type": "markdown",
   "metadata": {},
   "source": [
    "Again, though there are a bunch of improvements/features we could make, lets move on...\n",
    "\n",
    "# ...on to step [three](03_pcf.ipynb)"
   ]
  },
  {
   "cell_type": "markdown",
   "metadata": {},
   "source": [
    "<a id='fun'></a>\n",
    "# Numba-fied fun!\n",
    "\n",
    "Python has a way to optimize big loops.\n",
    "\n",
    "This is for learning and fun, remember the first rule of optimization: optimize the slowest step first!\n",
    "\n",
    "[numba](http://numba.pydata.org/) is a beautiful and powerful way to \"just-in-time\" compile python code into native machine code..."
   ]
  },
  {
   "cell_type": "code",
   "execution_count": 21,
   "metadata": {
    "collapsed": true
   },
   "outputs": [],
   "source": [
    "from numba import jit, float64"
   ]
  },
  {
   "cell_type": "code",
   "execution_count": null,
   "metadata": {
    "collapsed": true
   },
   "outputs": [],
   "source": [
    "# %load -s superframe, snippets/distances.py\n",
    "def superframe(frame, a):\n",
    "    '''\n",
    "    Generate a 3x3x3 supercell from a frame.\n",
    "    '''\n",
    "    v = [-1, 0, 1]\n",
    "    n = len(frame)\n",
    "    unit = frame.loc[:, ['x', 'y', 'z']].values\n",
    "    coords = np.empty((n * 27, 3))\n",
    "    h = 0\n",
    "    for i in v:\n",
    "        for j in v:\n",
    "            for k in v:\n",
    "                for l in range(n):\n",
    "                    coords[h, 0] = unit[l, 0] + i * a\n",
    "                    coords[h, 1] = unit[l, 1] + j * a\n",
    "                    coords[h, 2] = unit[l, 2] + k * a\n",
    "                    h += 1\n",
    "    return coords\n"
   ]
  },
  {
   "cell_type": "code",
   "execution_count": 22,
   "metadata": {
    "collapsed": false
   },
   "outputs": [],
   "source": [
    "# %load -s superframe_numba, snippets/distances.py\n",
    "@jit(nopython=True)\n",
    "def superframe_numba(unit, a):\n",
    "    v = [-1, 0, 1]\n",
    "    n = len(unit)\n",
    "    coords = np.empty((n * 27, 3), dtype=float64)\n",
    "    h = 0\n",
    "    for i in v:\n",
    "        for j in v:\n",
    "            for k in v:\n",
    "                for l in range(n):\n",
    "                    coords[h, 0] = unit[l, 0] + i * a\n",
    "                    coords[h, 1] = unit[l, 1] + j * a\n",
    "                    coords[h, 2] = unit[l, 2] + k * a\n",
    "                    h += 1\n",
    "    return coords"
   ]
  },
  {
   "cell_type": "code",
   "execution_count": 24,
   "metadata": {
    "collapsed": false
   },
   "outputs": [
    {
     "name": "stdout",
     "output_type": "stream",
     "text": [
      "100 loops, best of 3: 7.66 ms per loop\n",
      "100 loops, best of 3: 637 µs per loop\n"
     ]
    }
   ],
   "source": [
    "n = 100\n",
    "%timeit -n $n superframe(unit_frame, a)\n",
    "%timeit -n $n superframe_numba(unit_frame.loc[:, ['x', 'y', 'z']].values, a)"
   ]
  },
  {
   "cell_type": "markdown",
   "metadata": {
    "collapsed": true
   },
   "source": [
    "~10x speedup (for 1 line of code)"
   ]
  }
 ],
 "metadata": {
  "kernelspec": {
   "display_name": "Python 3",
   "language": "python",
   "name": "python3"
  },
  "language_info": {
   "codemirror_mode": {
    "name": "ipython",
    "version": 3
   },
   "file_extension": ".py",
   "mimetype": "text/x-python",
   "name": "python",
   "nbconvert_exporter": "python",
   "pygments_lexer": "ipython3",
   "version": "3.5.1"
  }
 },
 "nbformat": 4,
 "nbformat_minor": 0
}
