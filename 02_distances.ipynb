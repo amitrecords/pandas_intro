{
 "cells": [
  {
   "cell_type": "code",
   "execution_count": null,
   "metadata": {
    "collapsed": true
   },
   "outputs": [],
   "source": [
    "# As before...\n",
    "import numpy as np\n",
    "import scipy as sp\n",
    "import pandas as pd\n",
    "\n",
    "nat = 195               # Number of atoms\n",
    "a = 12.55               # Cell size"
   ]
  },
  {
   "cell_type": "markdown",
   "metadata": {},
   "source": [
    "# Load our previous work\n",
    "\n",
    "HDF5's are easy to load"
   ]
  },
  {
   "cell_type": "code",
   "execution_count": null,
   "metadata": {
    "collapsed": false
   },
   "outputs": [],
   "source": [
    "xyz = pd.read_hdf('xyz.hdf5', 'xyz')\n",
    "xyz.head()"
   ]
  },
  {
   "cell_type": "markdown",
   "metadata": {},
   "source": [
    "# Computing distances between atoms\n",
    "\n",
    "This is arguably the most difficult part of this tutorial. How do we account for periodicity?\n",
    "\n",
    "Lets start by considering **free boundary** conditions first!\n",
    "\n",
    "Computing all atom to atom distances (**per frame**) increases factorially,\n",
    "\n",
    "\\begin{equation}\n",
    "    \\frac{nat!}{2!\\left(nat - 2\\right)!} \\left(= \\frac{1}{2}\\left(nat * \\left(nat - 1\\right)\\right)\\right)\n",
    "\\end{equation}\n",
    "\n",
    "in computations (where *nat* is the number of atoms). Fortunately for us, computing the distances can be \n",
    "passed off to scipy's [pdist](https://scipy.github.io/devdocs/generated/scipy.spatial.distance.pdist.html).\n",
    "\n",
    "**CODING TIME: Write a function to compute all of the atom to atom distances in every frame assuming free boundary conditions**"
   ]
  },
  {
   "cell_type": "code",
   "execution_count": null,
   "metadata": {
    "collapsed": true
   },
   "outputs": [],
   "source": [
    "from scipy.spatial.distance import pdist\n",
    "\n",
    "\n",
    "def skeleton_free_boundary_distances(frame):    # Note that this is frame, not DataFrame\n",
    "    '''\n",
    "    Compute all of the atom to atom distances with free boundary conditions\n",
    "    '''\n",
    "    # Compute distances\n",
    "    xyz = frame.loc[:, ['x', 'y', 'z']]\n",
    "    distances = pdist(xyz)\n",
    "    # Compute the symbols\n",
    "    # ...\n",
    "    symbols = None\n",
    "    return pd.DataFrame.from_dict({'distances': distances, 'symbols': symbols})"
   ]
  },
  {
   "cell_type": "code",
   "execution_count": null,
   "metadata": {
    "collapsed": false
   },
   "outputs": [],
   "source": [
    "twobody = xyz.groupby(level='frame').apply(skeleton_free_boundary_distances)\n",
    "twobody.head()"
   ]
  },
  {
   "cell_type": "markdown",
   "metadata": {},
   "source": [
    "Distances are no good to us, unless we know where they came from (or at least what two symbols they represent)...\n",
    "\n",
    "**HINT: Check out the \"combinations\" function in the itertools library (part of the Python standard library)**"
   ]
  },
  {
   "cell_type": "code",
   "execution_count": null,
   "metadata": {
    "collapsed": true
   },
   "outputs": [],
   "source": [
    "from itertools import combinations"
   ]
  },
  {
   "cell_type": "code",
   "execution_count": null,
   "metadata": {
    "collapsed": false
   },
   "outputs": [],
   "source": [
    "%load -s free_boundary_distances, snippets/distances.py"
   ]
  },
  {
   "cell_type": "code",
   "execution_count": null,
   "metadata": {
    "collapsed": false
   },
   "outputs": [],
   "source": [
    "twobody = xyz.groupby(level='frame').apply(free_boundary_distances)\n",
    "twobody.head()"
   ]
  },
  {
   "cell_type": "markdown",
   "metadata": {},
   "source": [
    "# Tests again..."
   ]
  },
  {
   "cell_type": "code",
   "execution_count": null,
   "metadata": {
    "collapsed": false
   },
   "outputs": [],
   "source": [
    "twobody.loc[0].head()"
   ]
  },
  {
   "cell_type": "code",
   "execution_count": null,
   "metadata": {
    "collapsed": false
   },
   "outputs": [],
   "source": [
    "first = xyz.loc[0, ['x', 'y', 'z']].values\n",
    "for i in range(1, 6):\n",
    "    print(((first[0, :] - first[i, :])**2).sum()**0.5)"
   ]
  },
  {
   "cell_type": "markdown",
   "metadata": {},
   "source": [
    "# Periodicity\n",
    "\n",
    "That was fun but it doesn't do what we need it to! Periodic boundaries can be handled a number of ways, here is one algorithm:\n",
    "\n",
    "- Put all atoms back in unit cell\n",
    "- Generate a 3x3x3 supercell from the unit cell\n",
    "- Compute distances looking only from the central unit cell (the internal cell that is completely surrounded by replicas)\n",
    "\n",
    "Since this is complicated, we will walk through the pieces of the code individually (applying them to a single frame) before putting it all together."
   ]
  },
  {
   "cell_type": "code",
   "execution_count": null,
   "metadata": {
    "collapsed": true
   },
   "outputs": [],
   "source": [
    "frame = xyz.loc[0]"
   ]
  },
  {
   "cell_type": "markdown",
   "metadata": {},
   "source": [
    "**CODING TIME: Put all atoms back into the unit cell**"
   ]
  },
  {
   "cell_type": "code",
   "execution_count": null,
   "metadata": {
    "collapsed": true
   },
   "outputs": [],
   "source": [
    "def skeleton_create_unit(df, a):\n",
    "    '''\n",
    "    Put all atoms back into the cubic unit cell\n",
    "    '''\n",
    "    #..."
   ]
  },
  {
   "cell_type": "code",
   "execution_count": null,
   "metadata": {
    "collapsed": true
   },
   "outputs": [],
   "source": [
    "unit_frame = skeleton_create_unit(frame, a)    # a is defined above\n",
    "unit_frame"
   ]
  },
  {
   "cell_type": "markdown",
   "metadata": {},
   "source": [
    "The % (modulo) operator is nice for such tasks..."
   ]
  },
  {
   "cell_type": "code",
   "execution_count": null,
   "metadata": {
    "collapsed": false
   },
   "outputs": [],
   "source": [
    "%load -s create_unit, snippets/distances.py"
   ]
  },
  {
   "cell_type": "code",
   "execution_count": null,
   "metadata": {
    "collapsed": false
   },
   "outputs": [],
   "source": [
    "unit_frame = create_unit(frame, a)\n",
    "unit_frame.shape"
   ]
  },
  {
   "cell_type": "code",
   "execution_count": null,
   "metadata": {
    "collapsed": false
   },
   "outputs": [],
   "source": [
    "print(unit_frame is not frame)                          # True if objects are not the same in memory\n",
    "print(np.all(unit_frame.values == frame.values))        # True if objects' xyz positions are identical"
   ]
  },
  {
   "cell_type": "markdown",
   "metadata": {},
   "source": [
    "**CODING TIME: Generate the 3x3x3 superframe from the unit_frame**"
   ]
  },
  {
   "cell_type": "code",
   "execution_count": null,
   "metadata": {
    "collapsed": true
   },
   "outputs": [],
   "source": [
    "def skeleton_superframe(frame, a):\n",
    "    '''\n",
    "    Generate a 3x3x3 supercell of a given frame.\n",
    "    '''\n",
    "    v = [-1, 0, 1]\n",
    "    n = len(frame)\n",
    "    unit = frame.loc[:, ['x', 'y', 'z']].values\n",
    "    coords = np.empty((n * 27, 3))\n",
    "    h = 0\n",
    "    for i in v:\n",
    "        for j in v:\n",
    "            for k in v:\n",
    "                #for ...\n",
    "    return coords"
   ]
  },
  {
   "cell_type": "code",
   "execution_count": null,
   "metadata": {
    "collapsed": false
   },
   "outputs": [],
   "source": [
    "big_frame = skeleton_superframe(unit_frame, a)\n",
    "big_frame.shape"
   ]
  },
  {
   "cell_type": "markdown",
   "metadata": {},
   "source": [
    "One solution...or if you want to have some [fun](#fun)..."
   ]
  },
  {
   "cell_type": "code",
   "execution_count": null,
   "metadata": {
    "collapsed": false
   },
   "outputs": [],
   "source": [
    "%load -s superframe, snippets/distances.py"
   ]
  },
  {
   "cell_type": "code",
   "execution_count": null,
   "metadata": {
    "collapsed": false
   },
   "outputs": [],
   "source": [
    "big_frame = superframe(unit_frame, a)\n",
    "big_frame"
   ]
  },
  {
   "cell_type": "markdown",
   "metadata": {},
   "source": [
    "# KDTree\n",
    "\n",
    "For a single frame's supercell (to start with) we need to compute the distances from the central frame. \n",
    "\n",
    "Let's use a nice feature of scipy/scikit-learn (and of course the mathematicians \n",
    "that developed it): the [KDTree](https://scipy.github.io/devdocs/generated/scipy.spatial.KDTree.html#scipy.spatial.KDTree)\n",
    "\n",
    "See also: [wiki](https://en.wikipedia.org/wiki/K-d_tree)\n",
    "\n",
    "We are going to use the [Cythonized](http://cython.org/) version of the KDTree implementation."
   ]
  },
  {
   "cell_type": "code",
   "execution_count": null,
   "metadata": {
    "collapsed": true
   },
   "outputs": [],
   "source": [
    "from scipy.spatial import cKDTree"
   ]
  },
  {
   "cell_type": "code",
   "execution_count": null,
   "metadata": {
    "collapsed": false
   },
   "outputs": [],
   "source": [
    "kd = cKDTree(big_frame)\n",
    "k = 194                          # Number of distances to compute \n",
    "distances, indices = kd.query(unit_frame.loc[:, ['x', 'y', 'z']], k=k)\n",
    "distances.shape"
   ]
  },
  {
   "cell_type": "code",
   "execution_count": null,
   "metadata": {
    "collapsed": false
   },
   "outputs": [],
   "source": [
    "indices.shape"
   ]
  },
  {
   "cell_type": "markdown",
   "metadata": {},
   "source": [
    "We have the distances but we need to shape them into a DataFrame and figure out what symbol pair \n",
    "each distance belongs too (that last part is critical for the third task).\n",
    "\n",
    "The first column in the indices are the indices of the source atom from which we are looking.\n",
    "\n",
    "The rest of the columns contain the indices of the paired atom to which we are computing the distances.\n",
    "\n",
    "We map superframe indices back onto the unit_frame indices:"
   ]
  },
  {
   "cell_type": "code",
   "execution_count": null,
   "metadata": {
    "collapsed": true
   },
   "outputs": [],
   "source": [
    "def map_x_to_y(x, y):\n",
    "    '''\n",
    "    Using the indices in x, generate an array of the same \n",
    "    length populated by values from y.\n",
    "    '''\n",
    "    mapped = np.empty((len(x), ), dtype=np.int)\n",
    "    for i, index in enumerate(x):\n",
    "        mapped[i] = y[index]\n",
    "    return mapped"
   ]
  },
  {
   "cell_type": "code",
   "execution_count": null,
   "metadata": {
    "collapsed": true
   },
   "outputs": [],
   "source": [
    "unit_frame_indices = unit_frame.index.get_level_values('atom').tolist() * 27\n",
    "repeated_source = np.repeat(indices[:, 0], k)\n",
    "atom1_indices = pd.Series(map_x_to_y(repeated_source, unit_frame_indices))\n",
    "atom2_indices = pd.Series(map_x_to_y(indices.flatten(), unit_frame_indices))"
   ]
  },
  {
   "cell_type": "markdown",
   "metadata": {},
   "source": [
    "Now let's convert these Series (a pandas Series is simply a column in a DataFrame)\n",
    "to symbols using the **map** function."
   ]
  },
  {
   "cell_type": "code",
   "execution_count": null,
   "metadata": {
    "collapsed": false
   },
   "outputs": [],
   "source": [
    "symbols = unit_frame['symbol'].to_dict()"
   ]
  },
  {
   "cell_type": "code",
   "execution_count": null,
   "metadata": {
    "collapsed": true
   },
   "outputs": [],
   "source": [
    "atom1_symbols = atom1_indices.map(symbols)\n",
    "atom2_symbols = atom2_indices.map(symbols)"
   ]
  },
  {
   "cell_type": "code",
   "execution_count": null,
   "metadata": {
    "collapsed": false
   },
   "outputs": [],
   "source": [
    "symbols = [''.join((first, atom2_symbols[i])) for i, first in enumerate(atom1_symbols)]"
   ]
  },
  {
   "cell_type": "markdown",
   "metadata": {},
   "source": [
    "Now let's finish this by generating our (periodic) two body DataFrame for this first frame.."
   ]
  },
  {
   "cell_type": "code",
   "execution_count": null,
   "metadata": {
    "collapsed": false
   },
   "outputs": [],
   "source": [
    "frame_twobody = pd.DataFrame.from_dict({'distance': distances.flatten(),\n",
    "                                        'symbols': symbols})\n",
    "\n",
    "frame_twobody = frame_twobody.loc[(frame_twobody['distance'] > 0.3) & (frame_twobody['distance'] < 8.3)]\n",
    "frame_twobody.head()"
   ]
  },
  {
   "cell_type": "markdown",
   "metadata": {},
   "source": [
    "We should probably do a check here, but in the interest of time, and because,\n",
    "with our current implementation this is not trivial, let's just skip this..."
   ]
  },
  {
   "cell_type": "markdown",
   "metadata": {},
   "source": [
    "# Putting the pieces together\n",
    "\n",
    "Though we have done this for a single frame, let's see if we can combine all of the pieces \n",
    "to act on the original xyz DataFrame."
   ]
  },
  {
   "cell_type": "code",
   "execution_count": null,
   "metadata": {
    "collapsed": false
   },
   "outputs": [],
   "source": [
    "from scipy.spatial import cKDTree\n",
    "from snippets.distances import superframe_numba, map_x_to_y_numba, create_unit\n",
    "\n",
    "\n",
    "def cubic_periodic_distances(xyz, a, nat, k=None):\n",
    "    '''\n",
    "    Computes atom to atom distances for a periodic cubic cell.\n",
    "\n",
    "    Args:\n",
    "        xyz: Properly indexed pandas DataFrame\n",
    "        a: Cubic cell dimension\n",
    "\n",
    "    Returns:\n",
    "        twobody: DataFrame of distances\n",
    "    '''\n",
    "    k = nat - 1 if k is None else k\n",
    "    # Since the unit cell size doesn't change between frames, \n",
    "    # let's put all of the atoms (in every frame) back in the\n",
    "    # unit cell at the same time.\n",
    "    unit_xyz = create_unit(xyz, a)\n",
    "    # Now we will define another function which will do the \n",
    "    # steps we outlined above (see below) and apply this \n",
    "    # function to every frame of the unit_xyz\n",
    "    twobody = unit_xyz.groupby(level='frame').apply(_compute, k=k)    # <== This is the meat and potatoes\n",
    "    # Filter the meaningful distances\n",
    "    # ...                                                             # <== EDIT THIS LINE!\n",
    "    # Pair the symbols\n",
    "    twobody.loc[:, 'symbols'] = twobody['atom1'] + twobody['atom2']\n",
    "    # Name the indices\n",
    "    twobody.index.names = ['frame', 'two']\n",
    "    return twobody\n"
   ]
  },
  {
   "cell_type": "code",
   "execution_count": null,
   "metadata": {
    "collapsed": true
   },
   "outputs": [],
   "source": [
    "#%load -s cubic_periodic_distances, snippets/distances.py"
   ]
  },
  {
   "cell_type": "markdown",
   "metadata": {},
   "source": [
    "What should the function **_compute** look like/do?\n",
    "\n",
    "**NOT QUITE CODING TIME: Just load the function**"
   ]
  },
  {
   "cell_type": "code",
   "execution_count": null,
   "metadata": {
    "collapsed": false
   },
   "outputs": [],
   "source": [
    "%load -s _compute, snippets/distances.py"
   ]
  },
  {
   "cell_type": "code",
   "execution_count": null,
   "metadata": {
    "collapsed": false,
    "scrolled": false
   },
   "outputs": [],
   "source": [
    "# WARNING: On a fast machine, this operation takes ~10 s\n",
    "%time twobody = cubic_periodic_distances(xyz, a, nat)\n",
    "twobody.head()"
   ]
  },
  {
   "cell_type": "markdown",
   "metadata": {},
   "source": [
    "What can we do with twobody data??"
   ]
  },
  {
   "cell_type": "code",
   "execution_count": null,
   "metadata": {
    "collapsed": false
   },
   "outputs": [],
   "source": [
    "twobody.loc[((twobody.symbols == 'HO') | (twobody.symbols == 'OH')) & (twobody.distance < 1.2), 'distance'].describe()"
   ]
  },
  {
   "cell_type": "code",
   "execution_count": null,
   "metadata": {
    "collapsed": true
   },
   "outputs": [],
   "source": [
    "twobody.loc[((twobody.symbols == 'HO') | (twobody.symbols == 'OH')) & (twobody.distance < 1.2), 'distance'].median()"
   ]
  },
  {
   "cell_type": "markdown",
   "metadata": {},
   "source": [
    "# Saving\n",
    "\n",
    "Now that we did that heavy analysis, let's save our data again.\n",
    "\n",
    "*(perspective: simulation time - >120hrs, analysis time: ~10 minutes)*"
   ]
  },
  {
   "cell_type": "code",
   "execution_count": null,
   "metadata": {
    "collapsed": false
   },
   "outputs": [],
   "source": [
    "# WARNING: On a fast machine, this operation takes ~10 s\n",
    "store = pd.HDFStore('twobody.hdf5', mode='w')\n",
    "%time store.put('twobody', twobody)\n",
    "store.close()"
   ]
  },
  {
   "cell_type": "markdown",
   "metadata": {},
   "source": [
    "Again, though there are a bunch of improvements/features we could make, let's move on...\n",
    "\n",
    "# ...on to step [three](03_pcf.ipynb)"
   ]
  },
  {
   "cell_type": "markdown",
   "metadata": {},
   "source": [
    "<a id='fun'></a>\n",
    "# Numba-fied fun!\n",
    "\n",
    "Python has a way to optimize big loops.\n",
    "\n",
    "This is for learning and fun, remember the first rule of optimization: optimize the slowest step first!\n",
    "\n",
    "[numba](http://numba.pydata.org/) is a beautiful and powerful way to \"just-in-time\" compile python code into native machine code..."
   ]
  },
  {
   "cell_type": "code",
   "execution_count": null,
   "metadata": {
    "collapsed": true
   },
   "outputs": [],
   "source": [
    "from numba import jit, float64"
   ]
  },
  {
   "cell_type": "code",
   "execution_count": null,
   "metadata": {
    "collapsed": false
   },
   "outputs": [],
   "source": [
    "%load -s superframe, snippets/distances.py"
   ]
  },
  {
   "cell_type": "code",
   "execution_count": null,
   "metadata": {
    "collapsed": false
   },
   "outputs": [],
   "source": [
    "%load -s superframe_numba, snippets/distances.py"
   ]
  },
  {
   "cell_type": "code",
   "execution_count": null,
   "metadata": {
    "collapsed": false
   },
   "outputs": [],
   "source": [
    "n = 100\n",
    "%timeit -n $n superframe(unit_frame, a)\n",
    "%timeit -n $n superframe_numba(unit_frame.loc[:, ['x', 'y', 'z']].values, a)"
   ]
  },
  {
   "cell_type": "markdown",
   "metadata": {
    "collapsed": true
   },
   "source": [
    "~10x speedup (for 1ish lines of code)"
   ]
  }
 ],
 "metadata": {
  "kernelspec": {
   "display_name": "Python 3",
   "language": "python",
   "name": "python3"
  },
  "language_info": {
   "codemirror_mode": {
    "name": "ipython",
    "version": 3
   },
   "file_extension": ".py",
   "mimetype": "text/x-python",
   "name": "python",
   "nbconvert_exporter": "python",
   "pygments_lexer": "ipython3",
   "version": "3.5.1"
  }
 },
 "nbformat": 4,
 "nbformat_minor": 0
}
