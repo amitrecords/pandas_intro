{
 "cells": [
  {
   "cell_type": "markdown",
   "metadata": {},
   "source": [
    "# Python\n",
    "Python is a dynamically typed functional programming language.\n",
    "\n",
    "- Has simple, readable, syntax; easy to learn\n",
    "- Companies building entire data anlytics industries based on jupyter notebook and the pydata stack (e.g. IBM Bluemix)\n",
    "- Intel is compiling the pydata stack linked to their MKL library (thanks to Barry for pointing this out!)\n",
    "- Everytime you check your gmail, Google's servers execute Python\n",
    "- Python developers were the second most in demand (functional programming) language developers in 2015 (first was C# - [data available here](http://www.dice.com/))\n",
    "\n",
    "# Pandas by example\n",
    "[Pandas](http://pandas.pydata.org/ \"Pandas\") is a high performance library for manipulating multidimensional data.\n",
    "\n",
    "Other notable libraries:\n",
    "- [numpy](http://www.numpy.org/ \"numpy\") N-D array mathematics\n",
    "- [scipy](https://www.scipy.org/ \"scipy\") Mathematical operations on N-D data\n",
    "- [scikit-learn](http://scikit-learn.org/ \"scikit-learn\") Compound operations (grouping, nearest neighbors searches, clustering, pattern recognition, etc.)\n",
    "- [jupyter](http://jupyter.org/ \"jupyter\") Specifically, *jupyter notebook* for interactive data work in many [languages](https://github.com/ipython/ipython/wiki/IPython-kernels-for-other-languages)\n",
    "- [blaze](http://blaze.pydata.org/) A suite of tools for data storage, manipulation, and processing\n",
    "\n",
    "There are a number of other important packages but these are core building blocks of a Python data scientist and a good place to start.\n",
    "\n",
    "# Learning by doing\n",
    "Lets explore the power of these tools by examing a problem that many of us have seen before; processing the result of a molecular dynamics simulation (MD). \n",
    "\n",
    "MD simulations are an integral part of the tools at the computational chemist's disposal. These simulations provide a description of atomic and molecular behavior. \n",
    "\n",
    "They can be used to predict novel properties, aid in chemical design, and support experimental conclusions. \n",
    "Performing these simulations can be tricky from a theoretical standpoint, but assuming we can get past that, \n",
    "lets consider analyzing (with a focus on **reproducibility**) the result of a simulation.\n",
    "\n",
    "# Task\n",
    "\n",
    "Given an [XYZ trajectory](https://en.wikipedia.org/wiki/XYZ_file_format) file containing 2000 frames (geometry snapshots) with 195 atoms each \n",
    "where each frame is in a 12.55 &#8491; x 12.55 &#8491; x 12.55 &#8491; cell (thanks Adam!),\n",
    "\n",
    "[1) parse in the data](01_parsing.ipynb)\n",
    "\n",
    "[2) compute all of the interatomic distances (accounting for periodic boundary conditions)](02_distances.ipynb), and\n",
    "\n",
    "[3) generate the pair correlation function(s) (sometimes called the radial distribution function) plots](03_pcf.ipynb)"
   ]
  },
  {
   "cell_type": "code",
   "execution_count": null,
   "metadata": {
    "collapsed": true
   },
   "outputs": [],
   "source": []
  }
 ],
 "metadata": {
  "kernelspec": {
   "display_name": "Python 3",
   "language": "python",
   "name": "python3"
  },
  "language_info": {
   "codemirror_mode": {
    "name": "ipython",
    "version": 3
   },
   "file_extension": ".py",
   "mimetype": "text/x-python",
   "name": "python",
   "nbconvert_exporter": "python",
   "pygments_lexer": "ipython3",
   "version": "3.5.1"
  }
 },
 "nbformat": 4,
 "nbformat_minor": 0
}
